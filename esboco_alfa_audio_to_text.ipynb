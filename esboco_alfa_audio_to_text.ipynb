{
 "cells": [
  {
   "cell_type": "markdown",
   "id": "7213eaeb",
   "metadata": {},
   "source": [
    "# Sobre o Código"
   ]
  },
  {
   "cell_type": "markdown",
   "id": "deaf4f02",
   "metadata": {},
   "source": [
    "Este código é um programa em Python que utiliza a biblioteca de reconhecimento de fala chamada SpeechRecognition (sr). A função ouvir_microfone() é responsável por habilitar o microfone do usuário, chamar um algoritmo de redução de ruídos no som, solicitar que o usuário diga algo, armazenar o que foi dito em uma variável e tentar reconhecer a fala do usuário com o reconhecedor de padrões do Google em português do Brasil.\n",
    "\n",
    "Após reconhecer a frase pronunciada pelo usuário, o programa verifica se as palavras reconhecidas estão em uma lista de palavras corretas e conta quantas palavras foram acertadas e quantas foram erradas. Em seguida, exibe uma mensagem de resultado para o usuário, informando quantas palavras ele acertou e quantas errou.\n",
    "\n",
    "Caso o programa não consiga reconhecer o padrão de fala do usuário, a mensagem \"Não entendi\" é exibida. Por fim, a função retorna a frase pronunciada pelo usuário."
   ]
  },
  {
   "cell_type": "code",
   "execution_count": 2,
   "id": "b551f9bf",
   "metadata": {},
   "outputs": [
    {
     "name": "stdout",
     "output_type": "stream",
     "text": [
      "Diga alguma coisa: \n",
      "result2:\n",
      "{   'alternative': [   {   'confidence': 0.82141513,\n",
      "                           'transcript': 'sereia árvore bola'},\n",
      "                       {'transcript': 'sereia bola'}],\n",
      "    'final': True}\n",
      "Você disse: sereia árvore bola\n",
      "sereia - correta\n",
      "árvore - correta\n",
      "bola - incorreta\n",
      "Você acertou 2 palavra(s) e errou 1 palavra(s)\n"
     ]
    },
    {
     "data": {
      "text/plain": [
       "'sereia árvore bola'"
      ]
     },
     "execution_count": 2,
     "metadata": {},
     "output_type": "execute_result"
    }
   ],
   "source": [
    "import speech_recognition as sr\n",
    "\n",
    "# Função para ouvir e reconhecer a fala\n",
    "def ouvir_microfone():\n",
    "    # Habilita o microfone do usuário\n",
    "    microfone = sr.Recognizer()\n",
    "\n",
    "    # usando o microfone\n",
    "    with sr.Microphone() as source:\n",
    "\n",
    "        # Chama um algoritmo de reducao de ruidos no som\n",
    "        microfone.adjust_for_ambient_noise(source)\n",
    "\n",
    "        # Frase para o usuario dizer algo\n",
    "        print(\"Diga alguma coisa: \")\n",
    "\n",
    "        # Armazena o que foi dito numa variavel\n",
    "        audio = microfone.listen(source)\n",
    "\n",
    "    try:\n",
    "\n",
    "        # Passa a variável para o algoritmo reconhecedor de padroes\n",
    "        frase = microfone.recognize_google(audio, language='pt-BR')\n",
    "\n",
    "        # Retorna a frase pronunciada\n",
    "        print(\"Você disse: \" + frase)\n",
    "\n",
    "        # Lista de palavras a serem verificadas\n",
    "        palavras = [\"sereia\", \"árvore\", \"gato\"]\n",
    "\n",
    "        # Cria uma lista com as palavras reconhecidas\n",
    "        palavras_reconhecidas = frase.split()\n",
    "\n",
    "        # Inicia as variáveis de contagem\n",
    "        acertos = 0\n",
    "        erros = 0\n",
    "\n",
    "        # Verifica cada palavra reconhecida\n",
    "        for palavra in palavras_reconhecidas:\n",
    "            # Se a palavra estiver na lista de palavras corretas, conta como acerto\n",
    "            if palavra in palavras:\n",
    "                acertos += 1\n",
    "                print(palavra, \"- correta\")\n",
    "            # Se não estiver na lista, conta como erro\n",
    "            else:\n",
    "                erros += 1\n",
    "                print(palavra, \"- incorreta\")\n",
    "\n",
    "        # Exibe a mensagem de resultado\n",
    "        if erros > 0:\n",
    "            print(\"Você acertou\", acertos, \"palavra(s) e errou\", erros, \"palavra(s)\")\n",
    "        else:\n",
    "            print(\"Parabéns, você acertou todas as palavras!\")\n",
    "\n",
    "    # Se nao reconheceu o padrao de fala, exibe a mensagem\n",
    "    except sr.UnknownValueError:\n",
    "        print(\"Não entendi\")\n",
    "\n",
    "    return frase\n",
    "\n",
    "\n",
    "ouvir_microfone()\n"
   ]
  }
 ],
 "metadata": {
  "kernelspec": {
   "display_name": "Python 3 (ipykernel)",
   "language": "python",
   "name": "python3"
  },
  "language_info": {
   "codemirror_mode": {
    "name": "ipython",
    "version": 3
   },
   "file_extension": ".py",
   "mimetype": "text/x-python",
   "name": "python",
   "nbconvert_exporter": "python",
   "pygments_lexer": "ipython3",
   "version": "3.9.12"
  }
 },
 "nbformat": 4,
 "nbformat_minor": 5
}
